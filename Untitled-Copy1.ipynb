{
 "cells": [
  {
   "cell_type": "code",
   "execution_count": null,
   "id": "99257d6a-0091-4de3-855b-6e1a611cbead",
   "metadata": {},
   "outputs": [],
   "source": [
    "# Data Science Tools and Ecosystem\n"
   ]
  },
  {
   "cell_type": "code",
   "execution_count": null,
   "id": "b7888bf1-79f3-4c2a-bc0f-044856929369",
   "metadata": {},
   "outputs": [],
   "source": [
    "## Introduction\n",
    "In this notebook, we summarize important tools, languages, and libraries used by data scientists.\n"
   ]
  },
  {
   "cell_type": "code",
   "execution_count": null,
   "id": "13265d11-3c72-4228-a4c0-e189ad0bd42c",
   "metadata": {},
   "outputs": [],
   "source": [
    "### Some of the popular languages used by Data Scientists include:\n",
    "- Python\n",
    "- R\n",
    "- SQL\n",
    "- Java\n",
    "- Julia\n"
   ]
  },
  {
   "cell_type": "code",
   "execution_count": null,
   "id": "cb9b8aed-1137-4520-9b5e-4c39e1c32b5b",
   "metadata": {},
   "outputs": [],
   "source": [
    "### Commonly used libraries in data science:\n",
    "- Pandas\n",
    "- NumPy\n",
    "- Matplotlib\n",
    "- Scikit-learn\n",
    "- TensorFlow\n"
   ]
  },
  {
   "cell_type": "code",
   "execution_count": null,
   "id": "7fff6751-a1a0-4149-bf32-6718924adf57",
   "metadata": {},
   "outputs": [],
   "source": [
    "### Data Science Tools\n",
    "\n",
    "| Tool         | Category        |\n",
    "|--------------|-----------------|\n",
    "| JupyterLab   | Notebook Editor |\n",
    "| RStudio      | IDE             |\n",
    "| Apache Spark | Big Data Tool   |\n",
    "| Tableau      | Visualization   |\n"
   ]
  },
  {
   "cell_type": "code",
   "execution_count": null,
   "id": "bb9c88d2-8483-4c65-9c0e-436d3943eb29",
   "metadata": {},
   "outputs": [],
   "source": [
    "### Examples of Arithmetic Expressions in Python\n",
    "Below we show how to multiply and add numbers using Python.\n"
   ]
  },
  {
   "cell_type": "code",
   "execution_count": null,
   "id": "ea6b3a2d-8f9b-4946-9b5a-2c050b04252b",
   "metadata": {},
   "outputs": [],
   "source": [
    "# Multiply and Add\n",
    "(3 * 4) + 5\n"
   ]
  },
  {
   "cell_type": "code",
   "execution_count": null,
   "id": "e9ad8a9f-72cc-41f2-8763-842f6ae58b55",
   "metadata": {},
   "outputs": [],
   "source": [
    "# Convert 200 minutes to hours\n",
    "minutes = 200\n",
    "hours = minutes / 60\n",
    "hours\n"
   ]
  },
  {
   "cell_type": "code",
   "execution_count": null,
   "id": "8502326c-3a6e-4048-a959-3275608335c6",
   "metadata": {},
   "outputs": [],
   "source": [
    "### Objectives:\n",
    "- Learn basic Markdown syntax\n",
    "- Understand data science languages and tools\n",
    "- Write simple arithmetic expressions in Python\n",
    "- Practice writing and formatting code in Jupyter notebooks\n"
   ]
  },
  {
   "cell_type": "code",
   "execution_count": null,
   "id": "464730d4-4fd8-4f18-b649-09aa9e531d28",
   "metadata": {},
   "outputs": [],
   "source": [
    "**Author:** Permjit Yadav\n"
   ]
  }
 ],
 "metadata": {
  "kernelspec": {
   "display_name": "Python 3 (ipykernel)",
   "language": "python",
   "name": "python3"
  },
  "language_info": {
   "codemirror_mode": {
    "name": "ipython",
    "version": 3
   },
   "file_extension": ".py",
   "mimetype": "text/x-python",
   "name": "python",
   "nbconvert_exporter": "python",
   "pygments_lexer": "ipython3",
   "version": "3.12.4"
  }
 },
 "nbformat": 4,
 "nbformat_minor": 5
}
